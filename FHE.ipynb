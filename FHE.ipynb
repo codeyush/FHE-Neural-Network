{
  "cells": [
    {
      "cell_type": "code",
      "execution_count": null,
      "metadata": {
        "colab": {
          "base_uri": "https://localhost:8080/"
        },
        "id": "Rh3Yakq4e3lq",
        "outputId": "b80a0a43-45c4-4f9f-cf4d-ef9da8f1c32b"
      },
      "outputs": [
        {
          "output_type": "stream",
          "name": "stderr",
          "text": [
            "No CUDA runtime is found, using CUDA_HOME='/usr/local/cuda'\n"
          ]
        }
      ],
      "source": [
        "import time\n",
        "\n",
        "import matplotlib.pyplot as plt\n",
        "import matplotlib.ticker as mtick\n",
        "import numpy as np\n",
        "from joblib import Memory\n",
        "from sklearn.datasets import fetch_openml\n",
        "from sklearn.metrics import accuracy_score\n",
        "from sklearn.model_selection import train_test_split\n",
        "from torch import nn\n",
        "\n",
        "from concrete.ml.sklearn import NeuralNetClassifier"
      ]
    },
    {
      "cell_type": "code",
      "source": [],
      "metadata": {
        "id": "LuAWmpX9gNTW"
      },
      "execution_count": null,
      "outputs": []
    },
    {
      "cell_type": "markdown",
      "metadata": {
        "id": "KDm8OMqZe3lr"
      },
      "source": [
        "### Load the data\n",
        "\n",
        "We download the train and test data-sets from OpenML."
      ]
    },
    {
      "cell_type": "code",
      "execution_count": null,
      "metadata": {
        "colab": {
          "base_uri": "https://localhost:8080/"
        },
        "id": "dAoSddqSe3lr",
        "outputId": "599ea309-50a4-44fe-dea1-7689e953ee32"
      },
      "outputs": [
        {
          "output_type": "stream",
          "name": "stdout",
          "text": [
            "________________________________________________________________________________\n",
            "[Memory] Calling sklearn.datasets._openml.fetch_openml...\n",
            "fetch_openml('mnist_784')\n",
            "____________________________________________________fetch_openml - 75.1s, 1.3min\n"
          ]
        }
      ],
      "source": [
        "# scikit-learn's fetch_openml method doesn't handle local cache:\n",
        "# https://github.com/scikit-learn/scikit-learn/issues/18783#issuecomment-723471498\n",
        "# This is a workaround that prevents downloading the data every time the notebook is ran\n",
        "memory = Memory(\"./data/MNIST\")\n",
        "fetch_openml_cached = memory.cache(fetch_openml)\n",
        "\n",
        "# Fetch the MNIST data-set, with inputs already flattened\n",
        "mnist_dataset = fetch_openml_cached(\"mnist_784\")"
      ]
    },
    {
      "cell_type": "markdown",
      "metadata": {
        "id": "pSZsGXNre3ls"
      },
      "source": [
        "We now need to normalize the values and split the inputs and targets into a test and train data-set."
      ]
    },
    {
      "cell_type": "code",
      "execution_count": null,
      "metadata": {
        "id": "cowrgbnte3lt"
      },
      "outputs": [],
      "source": [
        "# Define max, mean and std values for the MNIST data-set\n",
        "max_value = 255\n",
        "mean = 0.1307\n",
        "std = 0.3081\n",
        "\n",
        "# Normalize the training data\n",
        "data = (mnist_dataset.data) / max_value\n",
        "data = ((data - mean) / std).round(decimals=4)\n",
        "\n",
        "# Concrete ML's NNs do not support: category, str, object types\n",
        "# FIXME: https://github.com/zama-ai/concrete-ml-internal/issues/2990\n",
        "target = mnist_dataset.target.astype(\"int\")"
      ]
    },
    {
      "cell_type": "code",
      "execution_count": null,
      "metadata": {
        "id": "oi5pVY2Ne3lt"
      },
      "outputs": [],
      "source": [
        "test_size = 10000\n",
        "x_train, x_test, y_train, y_test = train_test_split(\n",
        "    data, target, test_size=test_size, random_state=0\n",
        ")"
      ]
    },
    {
      "cell_type": "markdown",
      "metadata": {
        "id": "G0l14WWEe3lt"
      },
      "source": [
        "Let's plot the first images from the train data."
      ]
    },
    {
      "cell_type": "code",
      "execution_count": null,
      "metadata": {
        "id": "t2un5-zPe3lt"
      },
      "outputs": [],
      "source": [
        "def plot_samples(data, targets, n_samples=5, title=\"Train target\"):\n",
        "    # MNIST images are originally of shape 28x28 with grayscale values\n",
        "    samples_to_plot = np.array(data)[:n_samples].reshape((n_samples, 28, 28))\n",
        "\n",
        "    fig = plt.figure(figsize=(30, 30))\n",
        "\n",
        "    for i in range(n_samples):\n",
        "        subplot = fig.add_subplot(1, n_samples, i + 1)\n",
        "        subplot.set_title(f\"{title}: {np.array(targets)[i]}\", fontsize=15)\n",
        "        subplot.imshow(samples_to_plot[i], cmap=\"gray\", interpolation=\"nearest\")"
      ]
    },
    {
      "cell_type": "code",
      "execution_count": null,
      "metadata": {
        "colab": {
          "base_uri": "https://localhost:8080/",
          "height": 245
        },
        "id": "6VB16QLze3lt",
        "outputId": "282a8e71-2fb9-45bf-aca6-76fa77d19238"
      },
      "outputs": [
        {
          "output_type": "display_data",
          "data": {
            "text/plain": [
              "<Figure size 3000x3000 with 5 Axes>"
            ],
            "image/png": "[encoded data removed]"
          },
          "metadata": {}
        }
      ],
      "source": [
        "plot_samples(x_train, y_train)"
      ]
    },
    {
      "cell_type": "markdown",
      "metadata": {
        "id": "oR5BY3upe3lu"
      },
      "source": [
        "### Instantiate the model\n",
        "\n",
        "This step is easy to achieve as we use a built-in Fully Connected Neural Network. Only a few input parameters are needed:\n",
        "- `module__n_layers`: number of Fully Connected layers to use in the model\n",
        "- `module__n_w_bits` and `module__n_a_bits`: respectively the number of bits to use for quantizing the weight and input/activation values as the FHE can currently only compute integers. These numbers should not become too large as it can cause the compilation step to fail (see Compile section below)\n",
        "- `module__n_accum_bits`: The maximal allowed bit-width to target for intermediate accumulators. It is currently set to 15 as the actual maximum bit width reached during compilation can be up to one bit higher than this targeted value, in this case 16, which is the maximal value that Concrete ML currently supports.\n",
        "- `module__n_hidden_neurons_multiplier`: A factor that is multiplied by the maximal number of active (non-zero weight) neurons for every layer. Default to 4 but set to 1 here in order to speed up all executions without changing the test accuracy by much. More detail in the qqn documentation.\n",
        "- `module__activation_function`: The activation function to use\n",
        "- `max_epochs`: The number of epochs to consider"
      ]
    },
    {
      "cell_type": "code",
      "execution_count": null,
      "metadata": {
        "id": "m_Zhy_7Ke3lu"
      },
      "outputs": [],
      "source": [
        "params = {\n",
        "    \"module__n_layers\": 1,\n",
        "    \"module__n_w_bits\":2,\n",
        "    \"module__n_a_bits\": 2,\n",
        "    \"module__n_accum_bits\": 8,\n",
        "    \"module__n_hidden_neurons_multiplier\": 0.5,\n",
        "    \"module__activation_function\": nn.ReLU,\n",
        "    \"max_epochs\": 5,\n",
        "}\n",
        "\n",
        "model = NeuralNetClassifier(**params)"
      ]
    },
    {
      "cell_type": "markdown",
      "metadata": {
        "id": "fJFW4Y46e3lu"
      },
      "source": [
        "### Train the model\n",
        "\n",
        "The fit method handles Pandas DataFrame as inputs."
      ]
    },
    {
      "cell_type": "code",
      "execution_count": null,
      "metadata": {
        "colab": {
          "base_uri": "https://localhost:8080/"
        },
        "id": "0ae5MYyie3lu",
        "outputId": "798f7d7b-cf2e-4d7d-ac65-e69fa64395c8"
      },
      "outputs": [
        {
          "output_type": "stream",
          "name": "stdout",
          "text": [
            "  epoch    train_loss    valid_acc    valid_loss      dur\n",
            "-------  ------------  -----------  ------------  -------\n",
            "      1        \u001b[36m1.5824\u001b[0m       \u001b[32m0.5215\u001b[0m        \u001b[35m1.4738\u001b[0m  12.2179\n",
            "      2        \u001b[36m1.5091\u001b[0m       0.4893        1.4955  5.2192\n",
            "      3        \u001b[36m1.4901\u001b[0m       0.4609        1.5683  3.7064\n",
            "      4        \u001b[36m1.4837\u001b[0m       0.4861        1.5327  4.7585\n",
            "      5        1.4959       \u001b[32m0.5315\u001b[0m        \u001b[35m1.3957\u001b[0m  3.6281\n"
          ]
        }
      ],
      "source": [
        "model.fit(X=x_train, y=y_train);"
      ]
    },
    {
      "cell_type": "markdown",
      "metadata": {
        "id": "OaUZkMpde3lu"
      },
      "source": [
        "### Compute predictions in the clear\n",
        "\n",
        "We then compute the accuracy score reached by the model when executed in the clear. It is important to understand that no FHE computations are done here. This step is not necessary but helps illustrate what results should we expect from the model. It is therefore used to demonstrate that FHE computations are exact, meaning the FHE accuracy score will exactly match this very one."
      ]
    },
    {
      "cell_type": "code",
      "execution_count": null,
      "metadata": {
        "colab": {
          "base_uri": "https://localhost:8080/"
        },
        "id": "IZvbnxjQe3lu",
        "outputId": "d931a146-827b-4e70-a447-bbaeba7dd4b2"
      },
      "outputs": [
        {
          "output_type": "stream",
          "name": "stdout",
          "text": [
            "The test accuracy of the clear model is 0.54\n"
          ]
        }
      ],
      "source": [
        "y_preds_clear = model.predict(x_test, fhe=\"disable\")\n",
        "\n",
        "print(f\"The test accuracy of the clear model is {accuracy_score(y_test, y_preds_clear):.2f}\")"
      ]
    },
    {
      "cell_type": "markdown",
      "metadata": {
        "id": "O0XhvTbie3lv"
      },
      "source": [
        "### Compile the model\n",
        "\n",
        "A Concrete ML model needs to be compiled on an input-set, usually the train set or one of its sub-set, before being able to predict. This step creates an FHE circuit, which essentially saves elements found in the model's inference (graph of operations, shapes, bit-width precisions, etc.) needed for the compiler when executing the predictions in FHE during the `predict` method.\n",
        "\n",
        "The maximum bit-width that can be reached by any values (inputs, weights, accumulators) in this circuit is currently 16-bits. If this limit is exceeded, the compilation fails and the user needs to change some of the model's parameters (e.g., decrease the number of quantization bits or decrease `module__n_accum_bits`).\n",
        "\n",
        "<!---\n",
        "Make it compile in non-VL when 2037 is done\n",
        "FIXME: https://github.com/zama-ai/concrete-ml-internal/issues/2307\n",
        "-->"
      ]
    },
    {
      "cell_type": "code",
      "execution_count": null,
      "metadata": {
        "colab": {
          "base_uri": "https://localhost:8080/"
        },
        "id": "hj27RStbe3lv",
        "outputId": "22b78804-fcbf-411d-f415-825443c7f9c1"
      },
      "outputs": [
        {
          "output_type": "stream",
          "name": "stdout",
          "text": [
            "Circuit of 6-bits (FHE simulation)\n"
          ]
        }
      ],
      "source": [
        "# Reduce the input-set's length to make the compilation time faster\n",
        "# The input-set should be large enough to be representative of the input data\n",
        "inputset = x_train.head(500)\n",
        "simulated_fhe_circuit = model.compile(inputset)\n",
        "\n",
        "# Print the circuit's maximum bit-width reached during compilation\n",
        "print(f\"Circuit of {simulated_fhe_circuit.graph.maximum_integer_bit_width()}-bits (FHE simulation)\")"
      ]
    },
    {
      "cell_type": "markdown",
      "metadata": {
        "id": "Q8XZkPd1e3lv"
      },
      "source": [
        "### Compute the accuracy score with FHE simulation\n",
        "\n",
        "Now, we compute the accuracy score reached by the FHE model with FHE simulation. The accuracy score obtained by simulation, which is faster, is expected to be the same as the one obtained in FHE."
      ]
    },
    {
      "cell_type": "code",
      "execution_count": null,
      "metadata": {
        "colab": {
          "base_uri": "https://localhost:8080/"
        },
        "id": "848QkN8ce3lv",
        "outputId": "024b19f9-2a17-4ff4-8953-e58e443e6477"
      },
      "outputs": [
        {
          "output_type": "stream",
          "name": "stdout",
          "text": [
            "The test accuracy (with FHE simulation) of the FHE model is 0.52\n"
          ]
        }
      ],
      "source": [
        "# Evaluate the model using simulation\n",
        "y_preds_simulated = model.predict(x_test.head(1000), fhe=\"simulate\")\n",
        "\n",
        "print(\n",
        "    \"The test accuracy (with FHE simulation) of the FHE model is \"\n",
        "    f\"{accuracy_score(y_test.head(1000), y_preds_simulated):.2f}\"\n",
        ")"
      ]
    },
    {
      "cell_type": "markdown",
      "metadata": {
        "id": "cGe6grcVe3lv"
      },
      "source": [
        "### Measure FHE inference time\n",
        "\n",
        "\n",
        "Now, let's compute some predictions in FHE. In order to make the computations faster, we will consider a sample of the original test set and compare these results to the expected values.\n",
        "\n",
        "We execute the key generation separately from the predictions in order to be able to measure its execution time."
      ]
    },
    {
      "cell_type": "code",
      "execution_count": null,
      "metadata": {
        "id": "Rdv2SX4ae3lv",
        "colab": {
          "base_uri": "https://localhost:8080/"
        },
        "outputId": "8510c601-dabf-47bc-f263-4919c719aba4"
      },
      "outputs": [
        {
          "output_type": "stream",
          "name": "stdout",
          "text": [
            "FHE circuit of 6-bits\n",
            "Key generation time: 0.00 seconds\n"
          ]
        }
      ],
      "source": [
        "# Print the circuit's maximum bit-width reached during compilation\n",
        "print(f\"FHE circuit of {model.fhe_circuit.graph.maximum_integer_bit_width()}-bits\")\n",
        "\n",
        "time_begin = time.time()\n",
        "model.fhe_circuit.client.keygen(force=True)\n",
        "print(f\"Key generation time: {time.time() - time_begin:.2f} seconds\")"
      ]
    },
    {
      "cell_type": "code",
      "execution_count": null,
      "metadata": {
        "id": "r86i2IqNe3lw",
        "colab": {
          "base_uri": "https://localhost:8080/"
        },
        "outputId": "3c13fcc8-5ae6-441b-da1b-06779bd158e0"
      },
      "outputs": [
        {
          "output_type": "stream",
          "name": "stdout",
          "text": [
            "Execution time in FHE: 0.09 seconds per sample\n",
            "\n",
            "Expected values: [0, 4]\n",
            "Simulated prediction values: [0 4]\n",
            "FHE prediction values: [0 4]\n"
          ]
        }
      ],
      "source": [
        "# Reduce the test set\n",
        "n_samples = 2\n",
        "x_test_sample = x_test.head(n_samples)\n",
        "y_test_sample = y_test.head(n_samples)\n",
        "\n",
        "# Execute the predictions using FHE simulation on a few samples\n",
        "simulated_fhe_predictions = model.predict(x_test_sample, fhe=\"simulate\")\n",
        "\n",
        "time_begin = time.time()\n",
        "fhe_predictions = model.predict(x_test_sample, fhe=\"execute\")\n",
        "seconds_per_sample = (time.time() - time_begin) / len(x_test_sample)\n",
        "print(f\"Execution time in FHE: {seconds_per_sample:.2f} seconds per sample\\n\")\n",
        "\n",
        "print(\"Expected values:\", y_test_sample.tolist())\n",
        "print(\"Simulated prediction values:\", simulated_fhe_predictions)\n",
        "print(\"FHE prediction values:\", fhe_predictions)"
      ]
    },
    {
      "cell_type": "markdown",
      "metadata": {
        "id": "SFMrAs-Ae3lw"
      },
      "source": [
        "### Prune the model to optimize its inference speed\n",
        "\n",
        "Removing redundant neurons through pruning is a technique that helps improve inference speed. This\n",
        "  through PBS which is computationally expensive.\n",
        "\n",
        "The following code shows how to test multiple pruning amounts, and chooses a pruning amount that\n",
        "preserves the initial accuracy while removing many neurons."
      ]
    },
    {
      "cell_type": "code",
      "execution_count": null,
      "metadata": {
        "id": "VlDW57vie3lw",
        "colab": {
          "base_uri": "https://localhost:8080/",
          "height": 1000
        },
        "outputId": "7687b7cc-0840-4b1d-9341-4a5431c8ff9a"
      },
      "outputs": [
        {
          "output_type": "stream",
          "name": "stdout",
          "text": [
            "  epoch    train_loss    valid_acc    valid_loss     dur\n",
            "-------  ------------  -----------  ------------  ------\n",
            "      1        \u001b[36m1.4378\u001b[0m       \u001b[32m0.5197\u001b[0m        \u001b[35m1.4587\u001b[0m  3.7931\n",
            "      2        \u001b[36m1.4367\u001b[0m       0.5100        \u001b[35m1.4526\u001b[0m  5.5555\n",
            "      3        \u001b[36m1.4350\u001b[0m       0.5057        1.5091  4.3137\n",
            "      4        \u001b[36m1.4317\u001b[0m       \u001b[32m0.5331\u001b[0m        \u001b[35m1.4069\u001b[0m  3.6755\n",
            "      5        1.4337       \u001b[32m0.5362\u001b[0m        1.4163  3.9596\n",
            "Pruning  0.00% of neurons.. test accuracy (with FHE simulation) of the FHE model is 0.53\n",
            "  epoch    train_loss    valid_acc    valid_loss     dur\n",
            "-------  ------------  -----------  ------------  ------\n",
            "      1        \u001b[36m1.4378\u001b[0m       \u001b[32m0.5197\u001b[0m        \u001b[35m1.4587\u001b[0m  4.9540\n",
            "      2        \u001b[36m1.4367\u001b[0m       0.5100        \u001b[35m1.4526\u001b[0m  3.5678\n",
            "      3        \u001b[36m1.4350\u001b[0m       0.5057        1.5091  3.6822\n",
            "      4        \u001b[36m1.4317\u001b[0m       \u001b[32m0.5331\u001b[0m        \u001b[35m1.4069\u001b[0m  4.3483\n",
            "      5        1.4337       \u001b[32m0.5362\u001b[0m        1.4163  4.2371\n",
            "Pruning 20.00% of neurons.. test accuracy (with FHE simulation) of the FHE model is 0.53\n",
            "  epoch    train_loss    valid_acc    valid_loss     dur\n",
            "-------  ------------  -----------  ------------  ------\n",
            "      1        \u001b[36m1.4378\u001b[0m       \u001b[32m0.5197\u001b[0m        \u001b[35m1.4587\u001b[0m  3.7086\n",
            "      2        \u001b[36m1.4367\u001b[0m       0.5100        \u001b[35m1.4526\u001b[0m  3.6461\n",
            "      3        \u001b[36m1.4350\u001b[0m       0.5057        1.5091  4.5502\n",
            "      4        \u001b[36m1.4317\u001b[0m       \u001b[32m0.5331\u001b[0m        \u001b[35m1.4069\u001b[0m  4.0818\n",
            "      5        1.4337       \u001b[32m0.5362\u001b[0m        1.4163  3.5639\n",
            "Pruning 40.00% of neurons.. test accuracy (with FHE simulation) of the FHE model is 0.53\n",
            "  epoch    train_loss    valid_acc    valid_loss     dur\n",
            "-------  ------------  -----------  ------------  ------\n",
            "      1        \u001b[36m1.4378\u001b[0m       \u001b[32m0.5197\u001b[0m        \u001b[35m1.4587\u001b[0m  3.6518\n",
            "      2        \u001b[36m1.4367\u001b[0m       0.5100        \u001b[35m1.4526\u001b[0m  3.5584\n",
            "      3        \u001b[36m1.4350\u001b[0m       0.5057        1.5091  4.8312\n",
            "      4        \u001b[36m1.4317\u001b[0m       \u001b[32m0.5331\u001b[0m        \u001b[35m1.4069\u001b[0m  3.7182\n",
            "      5        1.4337       \u001b[32m0.5362\u001b[0m        1.4163  3.7380\n",
            "Pruning 60.00% of neurons.. test accuracy (with FHE simulation) of the FHE model is 0.53\n",
            "  epoch    train_loss    valid_acc    valid_loss     dur\n",
            "-------  ------------  -----------  ------------  ------\n",
            "      1        \u001b[36m1.4378\u001b[0m       \u001b[32m0.5197\u001b[0m        \u001b[35m1.4587\u001b[0m  3.9209\n",
            "      2        \u001b[36m1.4367\u001b[0m       0.5100        \u001b[35m1.4526\u001b[0m  4.5186\n",
            "      3        \u001b[36m1.4350\u001b[0m       0.5057        1.5091  3.5252\n",
            "      4        \u001b[36m1.4317\u001b[0m       \u001b[32m0.5331\u001b[0m        \u001b[35m1.4069\u001b[0m  3.6016\n",
            "      5        1.4337       \u001b[32m0.5362\u001b[0m        1.4163  4.9488\n",
            "Pruning 80.00% of neurons.. test accuracy (with FHE simulation) of the FHE model is 0.53\n"
          ]
        },
        {
          "output_type": "display_data",
          "data": {
            "text/plain": [
              "<Figure size 800x400 with 1 Axes>"
            ],
            "image/png": "[encoded data removed]"
          },
          "metadata": {}
        }
      ],
      "source": [
        "pruned_models = {}\n",
        "pruned_acc = []\n",
        "all_prune_pct = np.arange(0.0, 1.0, 0.2)\n",
        "\n",
        "for idx, prune_pct in enumerate(all_prune_pct):\n",
        "    pruned_model = model.prune(x_train, y_train, prune_pct)\n",
        "    pruned_model.compile(inputset)\n",
        "    y_preds_simulated = pruned_model.predict(x_test, fhe=\"simulate\")\n",
        "    acc_pruned = accuracy_score(y_test, y_preds_simulated)\n",
        "    print(\n",
        "        f\"Pruning {prune_pct*100:5.2f}% of neurons.. test accuracy (with FHE simulation) \"\n",
        "        f\"of the FHE model is {acc_pruned:.2f}\"\n",
        "    )\n",
        "    pruned_acc.append(acc_pruned * 100)\n",
        "    pruned_models[idx] = pruned_model\n",
        "\n",
        "fig, ax = plt.subplots(figsize=(8, 4))\n",
        "xticks = mtick.FormatStrFormatter(fmt=\"%.0f%%\")\n",
        "ax.xaxis.set_major_formatter(xticks)\n",
        "ax.yaxis.set_major_formatter(xticks)\n",
        "plt.plot((all_prune_pct * 100).tolist(), pruned_acc, linewidth=2)\n",
        "plt.title(\"Accuracy with various levels of pruning\")\n",
        "plt.xlabel(\"Percentage of pruned neurons\")\n",
        "plt.ylabel(\"Accuracy\")\n",
        "plt.xlim((0, 100))\n",
        "plt.ylim((0, 100))\n",
        "plt.grid(True)\n",
        "plt.show()"
      ]
    },
    {
      "cell_type": "code",
      "execution_count": null,
      "metadata": {
        "id": "6ElZJav2e3lw",
        "colab": {
          "base_uri": "https://localhost:8080/",
          "height": 565
        },
        "outputId": "43af5ed6-258d-4843-d888-ec20c1784cd9"
      },
      "outputs": [
        {
          "output_type": "display_data",
          "data": {
            "text/plain": [
              "<Figure size 3000x3000 with 2 Axes>"
            ],
            "image/png": "[encoded data removed]"
          },
          "metadata": {}
        }
      ],
      "source": [
        "plot_samples(x_test, fhe_predictions, n_samples=n_samples, title=\"Predicted target\")"
      ]
    },
    {
      "cell_type": "code",
      "execution_count": null,
      "metadata": {
        "id": "_zf66rU0e3lx",
        "colab": {
          "base_uri": "https://localhost:8080/"
        },
        "outputId": "6b81dda6-c023-47d1-cb47-9da3f7793b20"
      },
      "outputs": [
        {
          "output_type": "stream",
          "name": "stdout",
          "text": [
            "Key generation time: 0.00 seconds\n",
            "FHE circuit of 6-bits\n",
            "Execution time in FHE: 0.08 seconds per sample\n",
            "\n",
            "Expected values:  [0, 4]\n",
            "FHE prediction values: [0 4]\n"
          ]
        }
      ],
      "source": [
        "# Choose the model that prunes 50% of neurons\n",
        "pruned_model = pruned_models[2]\n",
        "\n",
        "fhe_circuit = pruned_model.compile(inputset)\n",
        "\n",
        "time_begin = time.time()\n",
        "fhe_circuit.client.keygen(force=True)\n",
        "print(f\"Key generation time: {time.time() - time_begin:.2f} seconds\")\n",
        "\n",
        "# Print the circuit's maximum bit-width reached during compilation\n",
        "print(f\"FHE circuit of {fhe_circuit.graph.maximum_integer_bit_width()}-bits\")\n",
        "\n",
        "# Execute the predictions using FHE on a few samples\n",
        "start_time = time.time()\n",
        "fhe_predictions = pruned_model.predict(x_test_sample, fhe=\"execute\")\n",
        "seconds_per_sample = (time.time() - time_begin) / len(x_test_sample)\n",
        "print(f\"Execution time in FHE: {seconds_per_sample:.2f} seconds per sample\\n\")\n",
        "\n",
        "print(\"Expected values: \", y_test_sample.tolist())\n",
        "print(\"FHE prediction values:\", fhe_predictions)"
      ]
    },
    {
      "cell_type": "markdown",
      "metadata": {
        "id": "9zhgK5gxe3lx"
      },
      "source": [
        "## Conclusion\n",
        "\n",
        "In this notebook, we showed how to use a built-in Fully Connected Neural Network classifier on the MNIST data-set using the Concrete ML library in order to make its inference completely secure.\n",
        "\n",
        "Training, compiling and evaluation such a model is intuitive as our API follows most common Machine Learning APIs. In fact, only a few additional parameters related to quantization are requested, such as `module__n_w_bits`, `module__n_a_bits` or `module__n_accum_bits`. Thanks to the internal implementation of Quantize Aware Training (QAT) techniques, the Concrete ML `NeuralNetCLassifier` model reached a high accuracy score.\n",
        "\n",
        "A single FHE execution using the initial model takes several minutes on a multi-core machine.\n",
        "\n",
        "After pruning, keeping accuracy constant, the execution time is reduced to by a factor of 2-3. Structured pruning is a useful tool to improve the speed of neural networks while keeping accuracy constant."
      ]
    }
  ],
  "metadata": {
    "execution": {
      "timeout": 10800
    },
    "colab": {
      "provenance": []
    },
    "language_info": {
      "name": "python"
    },
    "kernelspec": {
      "name": "python3",
      "display_name": "Python 3"
    }
  },
  "nbformat": 4,
  "nbformat_minor": 0
}